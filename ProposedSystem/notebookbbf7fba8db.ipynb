{
 "cells": [
  {
   "cell_type": "code",
   "execution_count": 3,
   "metadata": {
    "execution": {
     "iopub.execute_input": "2025-04-16T12:17:05.408816Z",
     "iopub.status.busy": "2025-04-16T12:17:05.408157Z",
     "iopub.status.idle": "2025-04-16T12:17:05.413719Z",
     "shell.execute_reply": "2025-04-16T12:17:05.412988Z",
     "shell.execute_reply.started": "2025-04-16T12:17:05.408794Z"
    },
    "trusted": true
   },
   "outputs": [],
   "source": [
    "from tensorflow.keras.layers import Embedding\n",
    "from tensorflow.keras.preprocessing.sequence import pad_sequences\n",
    "from tensorflow.keras.models import Sequential\n",
    "from tensorflow.keras.preprocessing.text import one_hot\n",
    "from tensorflow.keras.layers import LSTM\n",
    "from tensorflow.keras.layers import Dense\n",
    "from tensorflow.keras.layers import Bidirectional\n",
    "from tensorflow.keras.layers import Dropout\n",
    "import pandas as pd"
   ]
  },
  {
   "cell_type": "code",
   "execution_count": 4,
   "metadata": {
    "execution": {
     "iopub.execute_input": "2025-04-16T12:17:05.419785Z",
     "iopub.status.busy": "2025-04-16T12:17:05.419614Z",
     "iopub.status.idle": "2025-04-16T12:17:06.041631Z",
     "shell.execute_reply": "2025-04-16T12:17:06.041042Z",
     "shell.execute_reply.started": "2025-04-16T12:17:05.419771Z"
    },
    "trusted": true
   },
   "outputs": [],
   "source": [
    "from tensorflow.keras.preprocessing.text import Tokenizer\n",
    "from sklearn.model_selection import train_test_split"
   ]
  },
  {
   "cell_type": "code",
   "execution_count": 5,
   "metadata": {
    "execution": {
     "iopub.execute_input": "2025-04-16T12:17:06.04324Z",
     "iopub.status.busy": "2025-04-16T12:17:06.04278Z",
     "iopub.status.idle": "2025-04-16T12:17:12.138771Z",
     "shell.execute_reply": "2025-04-16T12:17:12.138041Z",
     "shell.execute_reply.started": "2025-04-16T12:17:06.043221Z"
    },
    "trusted": true
   },
   "outputs": [
    {
     "data": {
      "text/html": [
       "<div>\n",
       "<style scoped>\n",
       "    .dataframe tbody tr th:only-of-type {\n",
       "        vertical-align: middle;\n",
       "    }\n",
       "\n",
       "    .dataframe tbody tr th {\n",
       "        vertical-align: top;\n",
       "    }\n",
       "\n",
       "    .dataframe thead th {\n",
       "        text-align: right;\n",
       "    }\n",
       "</style>\n",
       "<table border=\"1\" class=\"dataframe\">\n",
       "  <thead>\n",
       "    <tr style=\"text-align: right;\">\n",
       "      <th></th>\n",
       "      <th>Unnamed: 0</th>\n",
       "      <th>title</th>\n",
       "      <th>text</th>\n",
       "      <th>label</th>\n",
       "    </tr>\n",
       "  </thead>\n",
       "  <tbody>\n",
       "    <tr>\n",
       "      <th>0</th>\n",
       "      <td>0</td>\n",
       "      <td>LAW ENFORCEMENT ON HIGH ALERT Following Threat...</td>\n",
       "      <td>No comment is expected from Barack Obama Membe...</td>\n",
       "      <td>1</td>\n",
       "    </tr>\n",
       "    <tr>\n",
       "      <th>1</th>\n",
       "      <td>1</td>\n",
       "      <td>NaN</td>\n",
       "      <td>Did they post their votes for Hillary already?</td>\n",
       "      <td>1</td>\n",
       "    </tr>\n",
       "    <tr>\n",
       "      <th>2</th>\n",
       "      <td>2</td>\n",
       "      <td>UNBELIEVABLE! OBAMA’S ATTORNEY GENERAL SAYS MO...</td>\n",
       "      <td>Now, most of the demonstrators gathered last ...</td>\n",
       "      <td>1</td>\n",
       "    </tr>\n",
       "  </tbody>\n",
       "</table>\n",
       "</div>"
      ],
      "text/plain": [
       "   Unnamed: 0                                              title  \\\n",
       "0           0  LAW ENFORCEMENT ON HIGH ALERT Following Threat...   \n",
       "1           1                                                NaN   \n",
       "2           2  UNBELIEVABLE! OBAMA’S ATTORNEY GENERAL SAYS MO...   \n",
       "\n",
       "                                                text  label  \n",
       "0  No comment is expected from Barack Obama Membe...      1  \n",
       "1     Did they post their votes for Hillary already?      1  \n",
       "2   Now, most of the demonstrators gathered last ...      1  "
      ]
     },
     "execution_count": 5,
     "metadata": {},
     "output_type": "execute_result"
    }
   ],
   "source": [
    "df = pd.read_csv('WELFake_Dataset.csv')\n",
    "df.head(3)"
   ]
  },
  {
   "cell_type": "code",
   "execution_count": 6,
   "metadata": {
    "execution": {
     "iopub.execute_input": "2025-04-16T12:17:12.139952Z",
     "iopub.status.busy": "2025-04-16T12:17:12.139671Z",
     "iopub.status.idle": "2025-04-16T12:17:12.160747Z",
     "shell.execute_reply": "2025-04-16T12:17:12.159992Z",
     "shell.execute_reply.started": "2025-04-16T12:17:12.139935Z"
    },
    "trusted": true
   },
   "outputs": [],
   "source": [
    "df=df.dropna()"
   ]
  },
  {
   "cell_type": "code",
   "execution_count": 7,
   "metadata": {
    "execution": {
     "iopub.execute_input": "2025-04-16T12:17:12.162548Z",
     "iopub.status.busy": "2025-04-16T12:17:12.162149Z",
     "iopub.status.idle": "2025-04-16T12:17:43.747651Z",
     "shell.execute_reply": "2025-04-16T12:17:43.746842Z",
     "shell.execute_reply.started": "2025-04-16T12:17:12.162526Z"
    },
    "trusted": true
   },
   "outputs": [],
   "source": [
    "max_words = 10000\n",
    "max_sequence_length = 100\n",
    "\n",
    "tokenizer = Tokenizer(num_words=max_words, oov_token=\"<OOV>\")\n",
    "tokenizer.fit_on_texts(df['text'].astype(str))"
   ]
  },
  {
   "cell_type": "code",
   "execution_count": 8,
   "metadata": {
    "execution": {
     "iopub.execute_input": "2025-04-16T12:17:43.749126Z",
     "iopub.status.busy": "2025-04-16T12:17:43.748684Z",
     "iopub.status.idle": "2025-04-16T12:18:07.32802Z",
     "shell.execute_reply": "2025-04-16T12:18:07.327402Z",
     "shell.execute_reply.started": "2025-04-16T12:17:43.7491Z"
    },
    "trusted": true
   },
   "outputs": [],
   "source": [
    "X = tokenizer.texts_to_sequences(df['text'].astype(str))\n",
    "X = pad_sequences(X, maxlen=max_sequence_length)\n",
    "\n",
    "# Prepare target variable\n",
    "y = df['label'].values\n",
    "\n",
    "# Train/test split\n",
    "X_train, X_test, y_train, y_test = train_test_split(X, y, test_size=0.2, random_state=42)"
   ]
  },
  {
   "cell_type": "code",
   "execution_count": 9,
   "metadata": {
    "execution": {
     "iopub.execute_input": "2025-04-16T12:18:07.329033Z",
     "iopub.status.busy": "2025-04-16T12:18:07.328775Z",
     "iopub.status.idle": "2025-04-16T12:18:08.76918Z",
     "shell.execute_reply": "2025-04-16T12:18:08.768644Z",
     "shell.execute_reply.started": "2025-04-16T12:18:07.329001Z"
    },
    "trusted": true
   },
   "outputs": [
    {
     "name": "stdout",
     "output_type": "stream",
     "text": [
      "Model: \"sequential\"\n",
      "_________________________________________________________________\n",
      " Layer (type)                Output Shape              Param #   \n",
      "=================================================================\n",
      " embedding (Embedding)       (None, 100, 100)          32044100  \n",
      "                                                                 \n",
      " bidirectional (Bidirection  (None, 256)               234496    \n",
      " al)                                                             \n",
      "                                                                 \n",
      " dropout (Dropout)           (None, 256)               0         \n",
      "                                                                 \n",
      " dense (Dense)               (None, 1)                 257       \n",
      "                                                                 \n",
      "=================================================================\n",
      "Total params: 32278853 (123.13 MB)\n",
      "Trainable params: 32278853 (123.13 MB)\n",
      "Non-trainable params: 0 (0.00 Byte)\n",
      "_________________________________________________________________\n"
     ]
    }
   ],
   "source": [
    "from tensorflow.keras.models import Sequential\n",
    "from tensorflow.keras.layers import Embedding, LSTM, Dense, Dropout, Bidirectional\n",
    "from tensorflow.keras.optimizers import Adam\n",
    "\n",
    "vocab_size = len(tokenizer.word_index) + 1  # total words + 1\n",
    "embedding_dim = 100\n",
    "\n",
    "model = Sequential()\n",
    "model.add(Embedding(input_dim=vocab_size, output_dim=embedding_dim, input_length=max_sequence_length))\n",
    "model.add(Bidirectional(LSTM(128, return_sequences=False)))\n",
    "model.add(Dropout(0.5))\n",
    "model.add(Dense(1,activation='sigmoid'))\n",
    "model.compile(loss='binary_crossentropy',optimizer='adam',metrics=['accuracy'])\n",
    "\n",
    "model.summary()\n"
   ]
  },
  {
   "cell_type": "code",
   "execution_count": 10,
   "metadata": {
    "collapsed": true,
    "execution": {
     "iopub.execute_input": "2025-04-16T12:18:08.770357Z",
     "iopub.status.busy": "2025-04-16T12:18:08.770118Z",
     "iopub.status.idle": "2025-04-16T12:22:20.410904Z",
     "shell.execute_reply": "2025-04-16T12:22:20.410218Z",
     "shell.execute_reply.started": "2025-04-16T12:18:08.770332Z"
    },
    "jupyter": {
     "outputs_hidden": true
    },
    "trusted": true
   },
   "outputs": [
    {
     "name": "stdout",
     "output_type": "stream",
     "text": [
      "Epoch 1/5\n",
      "1789/1789 [==============================] - 631s 349ms/step - loss: 0.2033 - accuracy: 0.9201 - val_loss: 0.1718 - val_accuracy: 0.9400\n",
      "Epoch 2/5\n",
      "1789/1789 [==============================] - 654s 366ms/step - loss: 0.1070 - accuracy: 0.9619 - val_loss: 0.1528 - val_accuracy: 0.9439\n",
      "Epoch 3/5\n",
      "1789/1789 [==============================] - 706s 395ms/step - loss: 0.0657 - accuracy: 0.9773 - val_loss: 0.1770 - val_accuracy: 0.9407\n",
      "Epoch 4/5\n",
      "1789/1789 [==============================] - 695s 388ms/step - loss: 0.0358 - accuracy: 0.9881 - val_loss: 0.1877 - val_accuracy: 0.9461\n",
      "Epoch 5/5\n",
      "1789/1789 [==============================] - 731s 409ms/step - loss: 0.0214 - accuracy: 0.9927 - val_loss: 0.2235 - val_accuracy: 0.9448\n"
     ]
    }
   ],
   "source": [
    "history = model.fit(\n",
    "    X_train, y_train,\n",
    "    epochs=5,\n",
    "    batch_size=32,\n",
    "    validation_data=(X_test, y_test),\n",
    "    verbose=1\n",
    ")\n"
   ]
  },
  {
   "cell_type": "code",
   "execution_count": null,
   "metadata": {},
   "outputs": [],
   "source": []
  },
  {
   "cell_type": "code",
   "execution_count": null,
   "metadata": {},
   "outputs": [],
   "source": []
  }
 ],
 "metadata": {
  "kaggle": {
   "accelerator": "nvidiaTeslaT4",
   "dataSources": [
    {
     "datasetId": 2093157,
     "sourceId": 6641062,
     "sourceType": "datasetVersion"
    }
   ],
   "dockerImageVersionId": 31012,
   "isGpuEnabled": true,
   "isInternetEnabled": false,
   "language": "python",
   "sourceType": "notebook"
  },
  "kernelspec": {
   "display_name": "Python 3",
   "language": "python",
   "name": "python3"
  },
  "language_info": {
   "codemirror_mode": {
    "name": "ipython",
    "version": 3
   },
   "file_extension": ".py",
   "mimetype": "text/x-python",
   "name": "python",
   "nbconvert_exporter": "python",
   "pygments_lexer": "ipython3",
   "version": "3.11.9"
  }
 },
 "nbformat": 4,
 "nbformat_minor": 4
}
