{
 "cells": [
  {
   "cell_type": "code",
   "execution_count": null,
   "id": "e6fe6e4b",
   "metadata": {},
   "outputs": [
    {
     "name": "stdout",
     "output_type": "stream",
     "text": [
      "1/1 [==============================] - 1s 949ms/step\n",
      "Prediction: Real (0.9998)\n"
     ]
    },
    {
     "data": {
      "text/plain": [
       "('Real', 0.9998104)"
      ]
     },
     "execution_count": 2,
     "metadata": {},
     "output_type": "execute_result"
    }
   ],
   "source": [
    "import pickle\n",
    "from tensorflow.keras.models import load_model\n",
    "from tensorflow.keras.preprocessing.sequence import pad_sequences\n",
    "\n",
    "# Load tokenizer\n",
    "with open(\"tokenizer.pkl\", \"rb\") as f:\n",
    "    tokenizer = pickle.load(f)\n",
    "\n",
    "# Load model\n",
    "model = load_model(\"sentiment_model.h5\")\n",
    "\n",
    "# Parameters\n",
    "max_sequence_length = 100  # Should match training\n",
    "\n",
    "# Function to predict label for single text\n",
    "def predict_text(text):\n",
    "    # Preprocess the input text\n",
    "    seq = tokenizer.texts_to_sequences([text])\n",
    "    padded = pad_sequences(seq, maxlen=max_sequence_length)\n",
    "\n",
    "    # Predict\n",
    "    pred = model.predict(padded)[0][0]\n",
    "\n",
    "    # Return label\n",
    "    label = \"Fake\" if pred < 0.5 else \"Real\"\n",
    "    print(f\"Prediction: {label} ({pred:.4f})\")\n",
    "    return label, pred\n",
    "\n",
    "# Example usage\n",
    "sample_text = \"\"\" Now, most of the demonstrators gathered last night were exercising their constitutional and protected right to peaceful protest in order to raise issues and create change.    Loretta Lynch aka Eric Holder in a skirt\"\"\"\n",
    "predict_text(sample_text)\n"
   ]
  },
  {
   "cell_type": "code",
   "execution_count": 4,
   "id": "017a85aa",
   "metadata": {},
   "outputs": [
    {
     "name": "stdout",
     "output_type": "stream",
     "text": [
      "1/1 [==============================] - 0s 145ms/step\n",
      "1/1 [==============================] - 0s 68ms/step\n",
      "Fake\n"
     ]
    },
    {
     "data": {
      "image/png": "[encoded data removed]",
      "text/plain": [
       "<Figure size 700x400 with 1 Axes>"
      ]
     },
     "metadata": {},
     "output_type": "display_data"
    }
   ],
   "source": [
    "from tensorflow.keras.models import load_model\n",
    "from tensorflow.keras.preprocessing.image import load_img, img_to_array\n",
    "import numpy as np\n",
    "import matplotlib.pyplot as plt\n",
    "img_height = 128\n",
    "img_width = 128\n",
    "# Load the model\n",
    "model = load_model(\"model_v1.h5\")\n",
    "def prediction(img):\n",
    "    class_names = ['Fake', 'Real']\n",
    "\n",
    "    my_image = load_img(img, target_size=(img_height, img_width))\n",
    "    my_image = img_to_array(my_image)\n",
    "    my_image = np.expand_dims(my_image, 0)\n",
    "\n",
    "    out = np.round(model.predict(my_image)[0], 2)\n",
    "    x=np.round(model.predict(my_image)[0][0], 2)\n",
    "    r=\"Real\" if x < 0.5 else \"Fake\"\n",
    "    print(r)\n",
    "    fig = plt.figure(figsize=(7, 4))\n",
    "    plt.barh(class_names, out, color='lightgray',\n",
    "             edgecolor='red', linewidth=1, height=0.5)\n",
    "\n",
    "    for index, value in enumerate(out):\n",
    "        plt.text(value/2 + 0.1, index, f\"{100*value:.2f}%\", fontweight='bold')\n",
    "    plt.xticks([])\n",
    "    plt.yticks([0, 1], labels=class_names, fontweight='bold', fontsize=14)\n",
    "    fig.savefig('pred_img.png', bbox_inches='tight')\n",
    "    return plt.show()\n",
    "# Prediction on single Image\n",
    "img = 'fake1.jpg'\n",
    "prediction(img)"
   ]
  },
  {
   "cell_type": "code",
   "execution_count": null,
   "id": "b941d8ca",
   "metadata": {},
   "outputs": [],
   "source": []
  }
 ],
 "metadata": {
  "kernelspec": {
   "display_name": "Python 3",
   "language": "python",
   "name": "python3"
  },
  "language_info": {
   "codemirror_mode": {
    "name": "ipython",
    "version": 3
   },
   "file_extension": ".py",
   "mimetype": "text/x-python",
   "name": "python",
   "nbconvert_exporter": "python",
   "pygments_lexer": "ipython3",
   "version": "3.11.9"
  }
 },
 "nbformat": 4,
 "nbformat_minor": 5
}
