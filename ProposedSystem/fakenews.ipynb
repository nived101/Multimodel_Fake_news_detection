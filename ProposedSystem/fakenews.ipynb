{
 "cells": [
  {
   "cell_type": "code",
   "execution_count": 1,
   "metadata": {
    "_cell_guid": "b1076dfc-b9ad-4769-8c92-a6c4dae69d19",
    "_uuid": "8f2839f25d086af736a60e9eeb907d3b93b6e0e5",
    "execution": {
     "iopub.execute_input": "2024-09-28T04:19:41.577956Z",
     "iopub.status.busy": "2024-09-28T04:19:41.577541Z",
     "iopub.status.idle": "2024-09-28T04:19:42.64876Z",
     "shell.execute_reply": "2024-09-28T04:19:42.647346Z",
     "shell.execute_reply.started": "2024-09-28T04:19:41.577917Z"
    },
    "trusted": true
   },
   "outputs": [],
   "source": [
    "\n",
    "import numpy as np # linear algebra\n",
    "import pandas as pd # data processing, CSV file I/O (e.g. pd.read_csv)\n",
    "\n",
    "import os\n"
   ]
  },
  {
   "cell_type": "code",
   "execution_count": 3,
   "metadata": {
    "execution": {
     "iopub.execute_input": "2024-09-28T04:19:44.850487Z",
     "iopub.status.busy": "2024-09-28T04:19:44.849371Z",
     "iopub.status.idle": "2024-09-28T04:20:00.501205Z",
     "shell.execute_reply": "2024-09-28T04:20:00.499758Z",
     "shell.execute_reply.started": "2024-09-28T04:19:44.850437Z"
    },
    "trusted": true
   },
   "outputs": [],
   "source": [
    "import numpy as np\n",
    "import pandas as pd\n",
    "import seaborn as sns\n",
    "import matplotlib.pyplot as plt\n",
    "import nltk\n",
    "from sklearn.preprocessing import LabelBinarizer\n",
    "from nltk.corpus import stopwords\n",
    "from nltk.stem.porter import PorterStemmer\n",
    "from wordcloud import WordCloud,STOPWORDS\n",
    "from nltk.stem import WordNetLemmatizer\n",
    "from nltk.tokenize import word_tokenize,sent_tokenize\n",
    "from bs4 import BeautifulSoup\n",
    "import re,string,unicodedata\n",
    "from tensorflow.keras.preprocessing import text, sequence\n",
    "from sklearn.metrics import classification_report,confusion_matrix,accuracy_score\n",
    "from sklearn.model_selection import train_test_split\n",
    "from string import punctuation\n",
    "from nltk import pos_tag\n",
    "from nltk.corpus import wordnet\n",
    "import keras\n",
    "from tensorflow.keras.models import Sequential\n",
    "from tensorflow.keras.layers import Dense,Embedding,LSTM,Dropout\n",
    "from tensorflow.keras.callbacks import ReduceLROnPlateau\n",
    "import tensorflow as tf"
   ]
  },
  {
   "cell_type": "code",
   "execution_count": 4,
   "metadata": {
    "execution": {
     "iopub.execute_input": "2024-09-28T04:20:03.113075Z",
     "iopub.status.busy": "2024-09-28T04:20:03.112372Z",
     "iopub.status.idle": "2024-09-28T04:20:10.145235Z",
     "shell.execute_reply": "2024-09-28T04:20:10.144206Z",
     "shell.execute_reply.started": "2024-09-28T04:20:03.113036Z"
    },
    "trusted": true
   },
   "outputs": [],
   "source": [
    "df = pd.read_csv(\"WELFake_Dataset.csv\")"
   ]
  },
  {
   "cell_type": "code",
   "execution_count": 5,
   "metadata": {
    "execution": {
     "iopub.execute_input": "2024-09-27T16:01:48.817446Z",
     "iopub.status.busy": "2024-09-27T16:01:48.816882Z",
     "iopub.status.idle": "2024-09-27T16:01:48.836516Z",
     "shell.execute_reply": "2024-09-27T16:01:48.835261Z",
     "shell.execute_reply.started": "2024-09-27T16:01:48.817399Z"
    },
    "trusted": true
   },
   "outputs": [
    {
     "data": {
      "text/html": [
       "<div>\n",
       "<style scoped>\n",
       "    .dataframe tbody tr th:only-of-type {\n",
       "        vertical-align: middle;\n",
       "    }\n",
       "\n",
       "    .dataframe tbody tr th {\n",
       "        vertical-align: top;\n",
       "    }\n",
       "\n",
       "    .dataframe thead th {\n",
       "        text-align: right;\n",
       "    }\n",
       "</style>\n",
       "<table border=\"1\" class=\"dataframe\">\n",
       "  <thead>\n",
       "    <tr style=\"text-align: right;\">\n",
       "      <th></th>\n",
       "      <th>Unnamed: 0</th>\n",
       "      <th>title</th>\n",
       "      <th>text</th>\n",
       "      <th>label</th>\n",
       "    </tr>\n",
       "  </thead>\n",
       "  <tbody>\n",
       "    <tr>\n",
       "      <th>0</th>\n",
       "      <td>0</td>\n",
       "      <td>LAW ENFORCEMENT ON HIGH ALERT Following Threat...</td>\n",
       "      <td>No comment is expected from Barack Obama Membe...</td>\n",
       "      <td>1</td>\n",
       "    </tr>\n",
       "    <tr>\n",
       "      <th>1</th>\n",
       "      <td>1</td>\n",
       "      <td>NaN</td>\n",
       "      <td>Did they post their votes for Hillary already?</td>\n",
       "      <td>1</td>\n",
       "    </tr>\n",
       "    <tr>\n",
       "      <th>2</th>\n",
       "      <td>2</td>\n",
       "      <td>UNBELIEVABLE! OBAMA’S ATTORNEY GENERAL SAYS MO...</td>\n",
       "      <td>Now, most of the demonstrators gathered last ...</td>\n",
       "      <td>1</td>\n",
       "    </tr>\n",
       "    <tr>\n",
       "      <th>3</th>\n",
       "      <td>3</td>\n",
       "      <td>Bobby Jindal, raised Hindu, uses story of Chri...</td>\n",
       "      <td>A dozen politically active pastors came here f...</td>\n",
       "      <td>0</td>\n",
       "    </tr>\n",
       "    <tr>\n",
       "      <th>4</th>\n",
       "      <td>4</td>\n",
       "      <td>SATAN 2: Russia unvelis an image of its terrif...</td>\n",
       "      <td>The RS-28 Sarmat missile, dubbed Satan 2, will...</td>\n",
       "      <td>1</td>\n",
       "    </tr>\n",
       "  </tbody>\n",
       "</table>\n",
       "</div>"
      ],
      "text/plain": [
       "   Unnamed: 0                                              title  \\\n",
       "0           0  LAW ENFORCEMENT ON HIGH ALERT Following Threat...   \n",
       "1           1                                                NaN   \n",
       "2           2  UNBELIEVABLE! OBAMA’S ATTORNEY GENERAL SAYS MO...   \n",
       "3           3  Bobby Jindal, raised Hindu, uses story of Chri...   \n",
       "4           4  SATAN 2: Russia unvelis an image of its terrif...   \n",
       "\n",
       "                                                text  label  \n",
       "0  No comment is expected from Barack Obama Membe...      1  \n",
       "1     Did they post their votes for Hillary already?      1  \n",
       "2   Now, most of the demonstrators gathered last ...      1  \n",
       "3  A dozen politically active pastors came here f...      0  \n",
       "4  The RS-28 Sarmat missile, dubbed Satan 2, will...      1  "
      ]
     },
     "execution_count": 5,
     "metadata": {},
     "output_type": "execute_result"
    }
   ],
   "source": [
    "df.head()"
   ]
  },
  {
   "cell_type": "code",
   "execution_count": 6,
   "metadata": {
    "execution": {
     "iopub.execute_input": "2024-09-28T04:20:21.817651Z",
     "iopub.status.busy": "2024-09-28T04:20:21.817223Z",
     "iopub.status.idle": "2024-09-28T04:20:21.857112Z",
     "shell.execute_reply": "2024-09-28T04:20:21.856288Z",
     "shell.execute_reply.started": "2024-09-28T04:20:21.817613Z"
    },
    "trusted": true
   },
   "outputs": [
    {
     "data": {
      "text/plain": [
       "Unnamed: 0      0\n",
       "title         558\n",
       "text           39\n",
       "label           0\n",
       "dtype: int64"
      ]
     },
     "execution_count": 6,
     "metadata": {},
     "output_type": "execute_result"
    }
   ],
   "source": [
    "df.isna().sum()"
   ]
  },
  {
   "cell_type": "code",
   "execution_count": 7,
   "metadata": {
    "execution": {
     "iopub.execute_input": "2024-09-28T04:20:14.367091Z",
     "iopub.status.busy": "2024-09-28T04:20:14.366634Z",
     "iopub.status.idle": "2024-09-28T04:20:14.388657Z",
     "shell.execute_reply": "2024-09-28T04:20:14.387571Z",
     "shell.execute_reply.started": "2024-09-28T04:20:14.367049Z"
    },
    "trusted": true
   },
   "outputs": [],
   "source": [
    "if \"Unnamed: 0\" in df.columns:\n",
    "    df.drop(\"Unnamed: 0\", axis=1, inplace=True)"
   ]
  },
  {
   "cell_type": "code",
   "execution_count": 8,
   "metadata": {
    "execution": {
     "iopub.execute_input": "2024-09-28T04:20:18.877979Z",
     "iopub.status.busy": "2024-09-28T04:20:18.877529Z",
     "iopub.status.idle": "2024-09-28T04:20:19.323869Z",
     "shell.execute_reply": "2024-09-28T04:20:19.32267Z",
     "shell.execute_reply.started": "2024-09-28T04:20:18.877939Z"
    },
    "trusted": true
   },
   "outputs": [],
   "source": [
    "df.fillna(\"\")\n",
    "headline = df[\"title\"]\n",
    "news = df[\"text\"]\n",
    "df[\"tot_news\"] = df[\"title\"].astype(\"str\") + \" \" + df[\"text\"].astype(\"str\")\n",
    "tot_news = df[\"tot_news\"]\n",
    "labels = df[\"label\"]"
   ]
  },
  {
   "cell_type": "code",
   "execution_count": 9,
   "metadata": {
    "execution": {
     "iopub.execute_input": "2024-09-28T04:20:30.851202Z",
     "iopub.status.busy": "2024-09-28T04:20:30.85081Z",
     "iopub.status.idle": "2024-09-28T04:20:30.86477Z",
     "shell.execute_reply": "2024-09-28T04:20:30.863758Z",
     "shell.execute_reply.started": "2024-09-28T04:20:30.851168Z"
    },
    "trusted": true
   },
   "outputs": [],
   "source": [
    "fake_news = news[labels == 0]\n",
    "real_news = news[labels == 1]"
   ]
  },
  {
   "cell_type": "code",
   "execution_count": 10,
   "metadata": {
    "execution": {
     "iopub.execute_input": "2024-09-28T04:20:37.126474Z",
     "iopub.status.busy": "2024-09-28T04:20:37.126046Z",
     "iopub.status.idle": "2024-09-28T04:20:37.143088Z",
     "shell.execute_reply": "2024-09-28T04:20:37.141977Z",
     "shell.execute_reply.started": "2024-09-28T04:20:37.126437Z"
    },
    "trusted": true
   },
   "outputs": [],
   "source": [
    "X = tot_news\n",
    "\n",
    "Y = labels.values\n",
    "x_train, x_test, y_train, y_test = train_test_split(X, Y, random_state=73939133)"
   ]
  },
  {
   "cell_type": "code",
   "execution_count": 20,
   "metadata": {
    "execution": {
     "iopub.execute_input": "2024-09-28T04:20:48.991418Z",
     "iopub.status.busy": "2024-09-28T04:20:48.990986Z",
     "iopub.status.idle": "2024-09-28T04:20:48.997001Z",
     "shell.execute_reply": "2024-09-28T04:20:48.995659Z",
     "shell.execute_reply.started": "2024-09-28T04:20:48.99136Z"
    },
    "trusted": true
   },
   "outputs": [],
   "source": [
    "max_features = 10000\n",
    "maxlen = 300\n",
    "batch_size = 256\n",
    "epochs = 2\n",
    "embed_size = 100\n",
    "# embed_size = 300"
   ]
  },
  {
   "cell_type": "code",
   "execution_count": 21,
   "metadata": {
    "execution": {
     "iopub.execute_input": "2024-09-28T04:21:04.83816Z",
     "iopub.status.busy": "2024-09-28T04:21:04.83774Z",
     "iopub.status.idle": "2024-09-28T04:22:27.269099Z",
     "shell.execute_reply": "2024-09-28T04:22:27.267689Z",
     "shell.execute_reply.started": "2024-09-28T04:21:04.838124Z"
    },
    "trusted": true
   },
   "outputs": [
    {
     "ename": "AttributeError",
     "evalue": "'numpy.ndarray' object has no attribute 'translate'",
     "output_type": "error",
     "traceback": [
      "\u001b[1;31m---------------------------------------------------------------------------\u001b[0m",
      "\u001b[1;31mAttributeError\u001b[0m                            Traceback (most recent call last)",
      "Cell \u001b[1;32mIn[21], line 2\u001b[0m\n\u001b[0;32m      1\u001b[0m tokenizer \u001b[38;5;241m=\u001b[39m text\u001b[38;5;241m.\u001b[39mTokenizer(num_words\u001b[38;5;241m=\u001b[39mmax_features,  lower\u001b[38;5;241m=\u001b[39m\u001b[38;5;28;01mNone\u001b[39;00m)\n\u001b[1;32m----> 2\u001b[0m \u001b[43mtokenizer\u001b[49m\u001b[38;5;241;43m.\u001b[39;49m\u001b[43mfit_on_texts\u001b[49m\u001b[43m(\u001b[49m\u001b[43mx_train\u001b[49m\u001b[43m)\u001b[49m\n\u001b[0;32m      3\u001b[0m tokenized_train \u001b[38;5;241m=\u001b[39m tokenizer\u001b[38;5;241m.\u001b[39mtexts_to_sequences(x_train)\n\u001b[0;32m      4\u001b[0m x_train \u001b[38;5;241m=\u001b[39m sequence\u001b[38;5;241m.\u001b[39mpad_sequences(tokenized_train, maxlen\u001b[38;5;241m=\u001b[39mmaxlen)\n",
      "File \u001b[1;32mc:\\Users\\Home\\AppData\\Local\\Programs\\Python\\Python311\\Lib\\site-packages\\keras\\src\\preprocessing\\text.py:293\u001b[0m, in \u001b[0;36mTokenizer.fit_on_texts\u001b[1;34m(self, texts)\u001b[0m\n\u001b[0;32m    291\u001b[0m \u001b[38;5;28;01melse\u001b[39;00m:\n\u001b[0;32m    292\u001b[0m     \u001b[38;5;28;01mif\u001b[39;00m \u001b[38;5;28mself\u001b[39m\u001b[38;5;241m.\u001b[39manalyzer \u001b[38;5;129;01mis\u001b[39;00m \u001b[38;5;28;01mNone\u001b[39;00m:\n\u001b[1;32m--> 293\u001b[0m         seq \u001b[38;5;241m=\u001b[39m \u001b[43mtext_to_word_sequence\u001b[49m\u001b[43m(\u001b[49m\n\u001b[0;32m    294\u001b[0m \u001b[43m            \u001b[49m\u001b[43mtext\u001b[49m\u001b[43m,\u001b[49m\n\u001b[0;32m    295\u001b[0m \u001b[43m            \u001b[49m\u001b[43mfilters\u001b[49m\u001b[38;5;241;43m=\u001b[39;49m\u001b[38;5;28;43mself\u001b[39;49m\u001b[38;5;241;43m.\u001b[39;49m\u001b[43mfilters\u001b[49m\u001b[43m,\u001b[49m\n\u001b[0;32m    296\u001b[0m \u001b[43m            \u001b[49m\u001b[43mlower\u001b[49m\u001b[38;5;241;43m=\u001b[39;49m\u001b[38;5;28;43mself\u001b[39;49m\u001b[38;5;241;43m.\u001b[39;49m\u001b[43mlower\u001b[49m\u001b[43m,\u001b[49m\n\u001b[0;32m    297\u001b[0m \u001b[43m            \u001b[49m\u001b[43msplit\u001b[49m\u001b[38;5;241;43m=\u001b[39;49m\u001b[38;5;28;43mself\u001b[39;49m\u001b[38;5;241;43m.\u001b[39;49m\u001b[43msplit\u001b[49m\u001b[43m,\u001b[49m\n\u001b[0;32m    298\u001b[0m \u001b[43m        \u001b[49m\u001b[43m)\u001b[49m\n\u001b[0;32m    299\u001b[0m     \u001b[38;5;28;01melse\u001b[39;00m:\n\u001b[0;32m    300\u001b[0m         seq \u001b[38;5;241m=\u001b[39m \u001b[38;5;28mself\u001b[39m\u001b[38;5;241m.\u001b[39manalyzer(text)\n",
      "File \u001b[1;32mc:\\Users\\Home\\AppData\\Local\\Programs\\Python\\Python311\\Lib\\site-packages\\keras\\src\\preprocessing\\text.py:78\u001b[0m, in \u001b[0;36mtext_to_word_sequence\u001b[1;34m(input_text, filters, lower, split)\u001b[0m\n\u001b[0;32m     76\u001b[0m translate_dict \u001b[38;5;241m=\u001b[39m {c: split \u001b[38;5;28;01mfor\u001b[39;00m c \u001b[38;5;129;01min\u001b[39;00m filters}\n\u001b[0;32m     77\u001b[0m translate_map \u001b[38;5;241m=\u001b[39m \u001b[38;5;28mstr\u001b[39m\u001b[38;5;241m.\u001b[39mmaketrans(translate_dict)\n\u001b[1;32m---> 78\u001b[0m input_text \u001b[38;5;241m=\u001b[39m \u001b[43minput_text\u001b[49m\u001b[38;5;241;43m.\u001b[39;49m\u001b[43mtranslate\u001b[49m(translate_map)\n\u001b[0;32m     80\u001b[0m seq \u001b[38;5;241m=\u001b[39m input_text\u001b[38;5;241m.\u001b[39msplit(split)\n\u001b[0;32m     81\u001b[0m \u001b[38;5;28;01mreturn\u001b[39;00m [i \u001b[38;5;28;01mfor\u001b[39;00m i \u001b[38;5;129;01min\u001b[39;00m seq \u001b[38;5;28;01mif\u001b[39;00m i]\n",
      "\u001b[1;31mAttributeError\u001b[0m: 'numpy.ndarray' object has no attribute 'translate'"
     ]
    }
   ],
   "source": [
    "tokenizer = text.Tokenizer(num_words=max_features,  lower=None)\n",
    "tokenizer.fit_on_texts(x_train)\n",
    "tokenized_train = tokenizer.texts_to_sequences(x_train)\n",
    "x_train = sequence.pad_sequences(tokenized_train, maxlen=maxlen)\n",
    "tokenized_test = tokenizer.texts_to_sequences(x_test)\n",
    "x_test = sequence.pad_sequences(tokenized_test, maxlen=maxlen)"
   ]
  },
  {
   "cell_type": "code",
   "execution_count": 22,
   "metadata": {
    "execution": {
     "iopub.execute_input": "2024-09-28T04:22:27.271566Z",
     "iopub.status.busy": "2024-09-28T04:22:27.271155Z",
     "iopub.status.idle": "2024-09-28T04:22:27.276635Z",
     "shell.execute_reply": "2024-09-28T04:22:27.275265Z",
     "shell.execute_reply.started": "2024-09-28T04:22:27.271525Z"
    },
    "trusted": true
   },
   "outputs": [],
   "source": [
    "EMBEDDING_FILE = \"glove.840B.300d.txt\""
   ]
  },
  {
   "cell_type": "code",
   "execution_count": 18,
   "metadata": {
    "execution": {
     "iopub.execute_input": "2024-09-28T04:22:45.231288Z",
     "iopub.status.busy": "2024-09-28T04:22:45.230345Z",
     "iopub.status.idle": "2024-09-28T04:23:06.042716Z",
     "shell.execute_reply": "2024-09-28T04:23:06.041585Z",
     "shell.execute_reply.started": "2024-09-28T04:22:45.231233Z"
    },
    "trusted": true
   },
   "outputs": [
    {
     "ename": "UnicodeDecodeError",
     "evalue": "'charmap' codec can't decode byte 0x90 in position 962: character maps to <undefined>",
     "output_type": "error",
     "traceback": [
      "\u001b[1;31m---------------------------------------------------------------------------\u001b[0m",
      "\u001b[1;31mUnicodeDecodeError\u001b[0m                        Traceback (most recent call last)",
      "Cell \u001b[1;32mIn[18], line 3\u001b[0m\n\u001b[0;32m      1\u001b[0m \u001b[38;5;28;01mdef\u001b[39;00m\u001b[38;5;250m \u001b[39m\u001b[38;5;21mget_coefs\u001b[39m(word, \u001b[38;5;241m*\u001b[39marr): \n\u001b[0;32m      2\u001b[0m     \u001b[38;5;28;01mreturn\u001b[39;00m word, np\u001b[38;5;241m.\u001b[39masarray(arr, dtype\u001b[38;5;241m=\u001b[39m\u001b[38;5;124m'\u001b[39m\u001b[38;5;124mfloat32\u001b[39m\u001b[38;5;124m'\u001b[39m)\n\u001b[1;32m----> 3\u001b[0m embeddings_index \u001b[38;5;241m=\u001b[39m \u001b[38;5;28;43mdict\u001b[39;49m\u001b[43m(\u001b[49m\u001b[43mget_coefs\u001b[49m\u001b[43m(\u001b[49m\u001b[38;5;241;43m*\u001b[39;49m\u001b[43mo\u001b[49m\u001b[38;5;241;43m.\u001b[39;49m\u001b[43mrstrip\u001b[49m\u001b[43m(\u001b[49m\u001b[43m)\u001b[49m\u001b[38;5;241;43m.\u001b[39;49m\u001b[43mrsplit\u001b[49m\u001b[43m(\u001b[49m\u001b[38;5;124;43m'\u001b[39;49m\u001b[38;5;124;43m \u001b[39;49m\u001b[38;5;124;43m'\u001b[39;49m\u001b[43m)\u001b[49m\u001b[43m)\u001b[49m\u001b[43m \u001b[49m\u001b[38;5;28;43;01mfor\u001b[39;49;00m\u001b[43m \u001b[49m\u001b[43mo\u001b[49m\u001b[43m \u001b[49m\u001b[38;5;129;43;01min\u001b[39;49;00m\u001b[43m \u001b[49m\u001b[38;5;28;43mopen\u001b[39;49m\u001b[43m(\u001b[49m\u001b[43mEMBEDDING_FILE\u001b[49m\u001b[43m)\u001b[49m\u001b[43m)\u001b[49m\n",
      "Cell \u001b[1;32mIn[18], line 3\u001b[0m, in \u001b[0;36m<genexpr>\u001b[1;34m(.0)\u001b[0m\n\u001b[0;32m      1\u001b[0m \u001b[38;5;28;01mdef\u001b[39;00m\u001b[38;5;250m \u001b[39m\u001b[38;5;21mget_coefs\u001b[39m(word, \u001b[38;5;241m*\u001b[39marr): \n\u001b[0;32m      2\u001b[0m     \u001b[38;5;28;01mreturn\u001b[39;00m word, np\u001b[38;5;241m.\u001b[39masarray(arr, dtype\u001b[38;5;241m=\u001b[39m\u001b[38;5;124m'\u001b[39m\u001b[38;5;124mfloat32\u001b[39m\u001b[38;5;124m'\u001b[39m)\n\u001b[1;32m----> 3\u001b[0m embeddings_index \u001b[38;5;241m=\u001b[39m \u001b[38;5;28mdict\u001b[39m\u001b[43m(\u001b[49m\u001b[43mget_coefs\u001b[49m\u001b[43m(\u001b[49m\u001b[38;5;241;43m*\u001b[39;49m\u001b[43mo\u001b[49m\u001b[38;5;241;43m.\u001b[39;49m\u001b[43mrstrip\u001b[49m\u001b[43m(\u001b[49m\u001b[43m)\u001b[49m\u001b[38;5;241;43m.\u001b[39;49m\u001b[43mrsplit\u001b[49m\u001b[43m(\u001b[49m\u001b[38;5;124;43m'\u001b[39;49m\u001b[38;5;124;43m \u001b[39;49m\u001b[38;5;124;43m'\u001b[39;49m\u001b[43m)\u001b[49m\u001b[43m)\u001b[49m\u001b[43m \u001b[49m\u001b[38;5;28;43;01mfor\u001b[39;49;00m\u001b[43m \u001b[49m\u001b[43mo\u001b[49m\u001b[43m \u001b[49m\u001b[38;5;129;43;01min\u001b[39;49;00m\u001b[43m \u001b[49m\u001b[38;5;28;43mopen\u001b[39;49m\u001b[43m(\u001b[49m\u001b[43mEMBEDDING_FILE\u001b[49m\u001b[43m)\u001b[49m\u001b[43m)\u001b[49m\n",
      "File \u001b[1;32mc:\\Users\\Home\\AppData\\Local\\Programs\\Python\\Python311\\Lib\\encodings\\cp1252.py:23\u001b[0m, in \u001b[0;36mIncrementalDecoder.decode\u001b[1;34m(self, input, final)\u001b[0m\n\u001b[0;32m     22\u001b[0m \u001b[38;5;28;01mdef\u001b[39;00m\u001b[38;5;250m \u001b[39m\u001b[38;5;21mdecode\u001b[39m(\u001b[38;5;28mself\u001b[39m, \u001b[38;5;28minput\u001b[39m, final\u001b[38;5;241m=\u001b[39m\u001b[38;5;28;01mFalse\u001b[39;00m):\n\u001b[1;32m---> 23\u001b[0m     \u001b[38;5;28;01mreturn\u001b[39;00m codecs\u001b[38;5;241m.\u001b[39mcharmap_decode(\u001b[38;5;28minput\u001b[39m,\u001b[38;5;28mself\u001b[39m\u001b[38;5;241m.\u001b[39merrors,decoding_table)[\u001b[38;5;241m0\u001b[39m]\n",
      "\u001b[1;31mUnicodeDecodeError\u001b[0m: 'charmap' codec can't decode byte 0x90 in position 962: character maps to <undefined>"
     ]
    }
   ],
   "source": [
    "def get_coefs(word, *arr): \n",
    "    return word, np.asarray(arr, dtype='float32')\n",
    "embeddings_index = dict(get_coefs(*o.rstrip().rsplit(' ')) for o in open(EMBEDDING_FILE))"
   ]
  },
  {
   "cell_type": "code",
   "execution_count": 19,
   "metadata": {
    "execution": {
     "iopub.execute_input": "2024-09-28T04:23:10.588018Z",
     "iopub.status.busy": "2024-09-28T04:23:10.587221Z",
     "iopub.status.idle": "2024-09-28T04:23:11.693344Z",
     "shell.execute_reply": "2024-09-28T04:23:11.69215Z",
     "shell.execute_reply.started": "2024-09-28T04:23:10.587969Z"
    },
    "trusted": true
   },
   "outputs": [
    {
     "ename": "NameError",
     "evalue": "name 'embeddings_index' is not defined",
     "output_type": "error",
     "traceback": [
      "\u001b[1;31m---------------------------------------------------------------------------\u001b[0m",
      "\u001b[1;31mNameError\u001b[0m                                 Traceback (most recent call last)",
      "Cell \u001b[1;32mIn[19], line 1\u001b[0m\n\u001b[1;32m----> 1\u001b[0m all_embs \u001b[38;5;241m=\u001b[39m np\u001b[38;5;241m.\u001b[39mstack(\u001b[38;5;28mlist\u001b[39m(\u001b[43membeddings_index\u001b[49m\u001b[38;5;241m.\u001b[39mvalues()))\n\u001b[0;32m      2\u001b[0m emb_mean,emb_std \u001b[38;5;241m=\u001b[39m all_embs\u001b[38;5;241m.\u001b[39mmean(), all_embs\u001b[38;5;241m.\u001b[39mstd()\n\u001b[0;32m      3\u001b[0m embed_size \u001b[38;5;241m=\u001b[39m all_embs\u001b[38;5;241m.\u001b[39mshape[\u001b[38;5;241m1\u001b[39m]\n",
      "\u001b[1;31mNameError\u001b[0m: name 'embeddings_index' is not defined"
     ]
    }
   ],
   "source": [
    "all_embs = np.stack(list(embeddings_index.values()))\n",
    "emb_mean,emb_std = all_embs.mean(), all_embs.std()\n",
    "embed_size = all_embs.shape[1]\n",
    "\n",
    "word_index = tokenizer.word_index\n",
    "nb_words = min(max_features, len(word_index))\n",
    "#change below line if computing normal stats is too slow\n",
    "embedding_matrix = np.random.normal(emb_mean, emb_std, (max_features, embed_size))\n",
    "for word, i in word_index.items():\n",
    "    if i >= max_features:\n",
    "        continue\n",
    "    embedding_vector = embeddings_index.get(word)\n",
    "    if embedding_vector is not None:\n",
    "        embedding_matrix[i] = embedding_vector"
   ]
  },
  {
   "cell_type": "code",
   "execution_count": null,
   "metadata": {
    "execution": {
     "iopub.execute_input": "2024-09-27T16:16:41.774206Z",
     "iopub.status.busy": "2024-09-27T16:16:41.772822Z",
     "iopub.status.idle": "2024-09-27T16:16:41.780054Z",
     "shell.execute_reply": "2024-09-27T16:16:41.778825Z",
     "shell.execute_reply.started": "2024-09-27T16:16:41.774134Z"
    },
    "trusted": true
   },
   "outputs": [],
   "source": [
    "learning_rate_reduction = ReduceLROnPlateau(\n",
    "    monitor='val_accuracy', \n",
    "    patience=2, \n",
    "    verbose=True,\n",
    "    factor=0.6, \n",
    "    min_lr=0.00001\n",
    ")"
   ]
  },
  {
   "cell_type": "code",
   "execution_count": null,
   "metadata": {
    "execution": {
     "iopub.execute_input": "2024-09-27T16:19:44.403423Z",
     "iopub.status.busy": "2024-09-27T16:19:44.402918Z",
     "iopub.status.idle": "2024-09-27T16:19:44.471169Z",
     "shell.execute_reply": "2024-09-27T16:19:44.470143Z",
     "shell.execute_reply.started": "2024-09-27T16:19:44.403379Z"
    },
    "trusted": true
   },
   "outputs": [],
   "source": [
    "#Defining Neural Network\n",
    "model1 = Sequential()\n",
    "#Non-trainable embeddidng layer\n",
    "model1.add(Embedding(max_features, output_dim=embed_size, weights=[embedding_matrix], input_length=maxlen, trainable=False))\n",
    "#LSTM \n",
    "model1.add(LSTM(units=128 , return_sequences = True , recurrent_dropout = 0.25 , dropout = 0.25))\n",
    "model1.add(LSTM(units=64 , recurrent_dropout = 0.1 , dropout = 0.1))\n",
    "model1.add(Dense(units = 32 , activation = 'relu'))\n",
    "model1.add(Dense(1, activation='sigmoid'))\n",
    "model1.compile(optimizer=keras.optimizers.Adam(learning_rate = 0.01), loss='binary_crossentropy', metrics=['accuracy'])"
   ]
  },
  {
   "cell_type": "code",
   "execution_count": null,
   "metadata": {
    "execution": {
     "iopub.execute_input": "2024-09-27T16:20:09.58855Z",
     "iopub.status.busy": "2024-09-27T16:20:09.588073Z",
     "iopub.status.idle": "2024-09-27T16:20:09.613789Z",
     "shell.execute_reply": "2024-09-27T16:20:09.612701Z",
     "shell.execute_reply.started": "2024-09-27T16:20:09.588508Z"
    },
    "trusted": true
   },
   "outputs": [],
   "source": [
    "model1.summary()"
   ]
  },
  {
   "cell_type": "code",
   "execution_count": null,
   "metadata": {
    "execution": {
     "iopub.execute_input": "2024-09-27T16:20:52.307075Z",
     "iopub.status.busy": "2024-09-27T16:20:52.30662Z",
     "iopub.status.idle": "2024-09-27T17:24:13.37318Z",
     "shell.execute_reply": "2024-09-27T17:24:13.371977Z",
     "shell.execute_reply.started": "2024-09-27T16:20:52.307033Z"
    },
    "trusted": true
   },
   "outputs": [],
   "source": [
    "history = model1.fit(x_train, y_train, batch_size = batch_size , validation_data = (x_test,y_test) , epochs = epochs , callbacks = [learning_rate_reduction])"
   ]
  },
  {
   "cell_type": "code",
   "execution_count": null,
   "metadata": {
    "execution": {
     "iopub.execute_input": "2024-09-27T17:32:12.249261Z",
     "iopub.status.busy": "2024-09-27T17:32:12.248674Z",
     "iopub.status.idle": "2024-09-27T17:38:25.601046Z",
     "shell.execute_reply": "2024-09-27T17:38:25.599979Z",
     "shell.execute_reply.started": "2024-09-27T17:32:12.249188Z"
    },
    "trusted": true
   },
   "outputs": [],
   "source": [
    "print(\"Accuracy of the model on Training Data is - \" , model1.evaluate(x_train,y_train)[1]*100 , \"%\")\n",
    "print(\"Accuracy of the model on Testing Data is - \" , model1.evaluate(x_test,y_test)[1]*100 , \"%\")"
   ]
  },
  {
   "cell_type": "code",
   "execution_count": null,
   "metadata": {
    "execution": {
     "iopub.execute_input": "2024-09-27T17:41:17.675783Z",
     "iopub.status.busy": "2024-09-27T17:41:17.675326Z",
     "iopub.status.idle": "2024-09-27T17:42:51.584526Z",
     "shell.execute_reply": "2024-09-27T17:42:51.58327Z",
     "shell.execute_reply.started": "2024-09-27T17:41:17.675743Z"
    },
    "trusted": true
   },
   "outputs": [],
   "source": [
    "pred = model1.predict(x_test)"
   ]
  },
  {
   "cell_type": "code",
   "execution_count": null,
   "metadata": {
    "execution": {
     "iopub.execute_input": "2024-09-27T17:44:36.654481Z",
     "iopub.status.busy": "2024-09-27T17:44:36.653886Z",
     "iopub.status.idle": "2024-09-27T17:44:36.660693Z",
     "shell.execute_reply": "2024-09-27T17:44:36.659366Z",
     "shell.execute_reply.started": "2024-09-27T17:44:36.65444Z"
    },
    "trusted": true
   },
   "outputs": [],
   "source": [
    "y_pred = np.where(pred >0.5, 1, 0)"
   ]
  },
  {
   "cell_type": "code",
   "execution_count": 15,
   "metadata": {
    "execution": {
     "iopub.execute_input": "2024-09-27T17:44:44.133306Z",
     "iopub.status.busy": "2024-09-27T17:44:44.13284Z",
     "iopub.status.idle": "2024-09-27T17:44:44.182132Z",
     "shell.execute_reply": "2024-09-27T17:44:44.180965Z",
     "shell.execute_reply.started": "2024-09-27T17:44:44.133261Z"
    },
    "trusted": true
   },
   "outputs": [
    {
     "ename": "NameError",
     "evalue": "name 'y_pred' is not defined",
     "output_type": "error",
     "traceback": [
      "\u001b[1;31m---------------------------------------------------------------------------\u001b[0m",
      "\u001b[1;31mNameError\u001b[0m                                 Traceback (most recent call last)",
      "Cell \u001b[1;32mIn[15], line 1\u001b[0m\n\u001b[1;32m----> 1\u001b[0m \u001b[38;5;28mprint\u001b[39m(classification_report(y_test, \u001b[43my_pred\u001b[49m, target_names \u001b[38;5;241m=\u001b[39m [\u001b[38;5;124m'\u001b[39m\u001b[38;5;124mFake\u001b[39m\u001b[38;5;124m'\u001b[39m,\u001b[38;5;124m'\u001b[39m\u001b[38;5;124mNot Fake\u001b[39m\u001b[38;5;124m'\u001b[39m]))\n",
      "\u001b[1;31mNameError\u001b[0m: name 'y_pred' is not defined"
     ]
    }
   ],
   "source": [
    "print(classification_report(y_test, y_pred, target_names = ['Fake','Not Fake']))"
   ]
  },
  {
   "cell_type": "code",
   "execution_count": null,
   "metadata": {
    "execution": {
     "iopub.execute_input": "2024-09-27T17:48:42.754752Z",
     "iopub.status.busy": "2024-09-27T17:48:42.754306Z",
     "iopub.status.idle": "2024-09-27T17:48:42.765554Z",
     "shell.execute_reply": "2024-09-27T17:48:42.764422Z",
     "shell.execute_reply.started": "2024-09-27T17:48:42.754704Z"
    },
    "trusted": true
   },
   "outputs": [],
   "source": [
    "\n",
    "confmat = confusion_matrix(y_pred,y_test)"
   ]
  },
  {
   "cell_type": "code",
   "execution_count": null,
   "metadata": {
    "execution": {
     "iopub.execute_input": "2024-09-28T05:05:39.16531Z",
     "iopub.status.busy": "2024-09-28T05:05:39.164428Z",
     "iopub.status.idle": "2024-09-28T05:05:39.170088Z",
     "shell.execute_reply": "2024-09-28T05:05:39.16874Z",
     "shell.execute_reply.started": "2024-09-28T05:05:39.165259Z"
    },
    "trusted": true
   },
   "outputs": [],
   "source": [
    "from sklearn.metrics import (\n",
    "    classification_report,\n",
    "    confusion_matrix, \n",
    "    accuracy_score,\n",
    "    ConfusionMatrixDisplay\n",
    ")"
   ]
  },
  {
   "cell_type": "code",
   "execution_count": null,
   "metadata": {
    "execution": {
     "iopub.execute_input": "2024-09-27T17:48:47.470296Z",
     "iopub.status.busy": "2024-09-27T17:48:47.468939Z",
     "iopub.status.idle": "2024-09-27T17:48:48.126875Z",
     "shell.execute_reply": "2024-09-27T17:48:48.1257Z",
     "shell.execute_reply.started": "2024-09-27T17:48:47.470225Z"
    },
    "trusted": true
   },
   "outputs": [],
   "source": [
    "print(f\"Model 1 confusion matrix :\")\n",
    "# y_test # array([1, 0, 1, ..., 1, 1, 1])\n",
    "disp = ConfusionMatrixDisplay(confmat)\n",
    "disp.plot()\n",
    "plt.savefig('confmat_model4.png', dpi=300)\n",
    "plt.show()\n"
   ]
  },
  {
   "cell_type": "code",
   "execution_count": null,
   "metadata": {
    "execution": {
     "iopub.execute_input": "2024-09-28T04:24:17.353434Z",
     "iopub.status.busy": "2024-09-28T04:24:17.352935Z",
     "iopub.status.idle": "2024-09-28T04:24:17.501926Z",
     "shell.execute_reply": "2024-09-28T04:24:17.500937Z",
     "shell.execute_reply.started": "2024-09-28T04:24:17.353391Z"
    },
    "trusted": true
   },
   "outputs": [],
   "source": [
    "model2 = Sequential()\n",
    "model2.add(Embedding(max_features, output_dim=embed_size, weights=[embedding_matrix], input_length=maxlen, trainable=False))\n",
    "model2.add(LSTM(100))\n",
    "model2.add(Dense(1,activation='sigmoid'))\n",
    "model2.compile(loss = 'binary_crossentropy',optimizer= 'adam',metrics = ['accuracy'])\n",
    "print(model2.summary())"
   ]
  },
  {
   "cell_type": "code",
   "execution_count": null,
   "metadata": {
    "execution": {
     "iopub.execute_input": "2024-09-28T04:26:36.378712Z",
     "iopub.status.busy": "2024-09-28T04:26:36.378128Z",
     "iopub.status.idle": "2024-09-28T04:57:06.515248Z",
     "shell.execute_reply": "2024-09-28T04:57:06.513864Z",
     "shell.execute_reply.started": "2024-09-28T04:26:36.378671Z"
    },
    "trusted": true
   },
   "outputs": [],
   "source": [
    "history2 = model2.fit(x_train, y_train, batch_size = batch_size , validation_data = (x_test,y_test) , epochs = epochs )"
   ]
  },
  {
   "cell_type": "code",
   "execution_count": null,
   "metadata": {
    "execution": {
     "iopub.execute_input": "2024-09-28T04:59:16.000402Z",
     "iopub.status.busy": "2024-09-28T04:59:15.999891Z",
     "iopub.status.idle": "2024-09-28T04:59:16.006821Z",
     "shell.execute_reply": "2024-09-28T04:59:16.005646Z",
     "shell.execute_reply.started": "2024-09-28T04:59:16.000348Z"
    },
    "trusted": true
   },
   "outputs": [],
   "source": [
    "def best_threshold_value(thresholds:list,X_test):\n",
    "    accuracies = []\n",
    "    for thresh in thresholds:\n",
    "        ypred =model2.predict(X_test)\n",
    "        ypred = np.where(ypred> thresh,1,0)\n",
    "        accuracies.append(accuracy_score(y_test,ypred))\n",
    "    return pd.DataFrame({\n",
    "        'Threshold': thresholds,\n",
    "        'Accuracy' : accuracies\n",
    "    })"
   ]
  },
  {
   "cell_type": "code",
   "execution_count": null,
   "metadata": {
    "execution": {
     "iopub.execute_input": "2024-09-28T04:59:35.367355Z",
     "iopub.status.busy": "2024-09-28T04:59:35.366435Z",
     "iopub.status.idle": "2024-09-28T05:03:39.928864Z",
     "shell.execute_reply": "2024-09-28T05:03:39.927594Z",
     "shell.execute_reply.started": "2024-09-28T04:59:35.367312Z"
    },
    "trusted": true
   },
   "outputs": [],
   "source": [
    "best_threshold_value([0.4,0.5,0.6,0.7,0.8,0.9], x_test)"
   ]
  },
  {
   "cell_type": "code",
   "execution_count": null,
   "metadata": {
    "execution": {
     "iopub.execute_input": "2024-09-28T05:04:12.632694Z",
     "iopub.status.busy": "2024-09-28T05:04:12.631319Z",
     "iopub.status.idle": "2024-09-28T05:04:55.045757Z",
     "shell.execute_reply": "2024-09-28T05:04:55.044618Z",
     "shell.execute_reply.started": "2024-09-28T05:04:12.632642Z"
    },
    "trusted": true
   },
   "outputs": [],
   "source": [
    "y_pred = model2.predict(x_test)\n",
    "y_pred = np.where(y_pred >0.4, 1, 0)"
   ]
  },
  {
   "cell_type": "code",
   "execution_count": null,
   "metadata": {
    "execution": {
     "iopub.execute_input": "2024-09-28T05:05:01.746789Z",
     "iopub.status.busy": "2024-09-28T05:05:01.746345Z",
     "iopub.status.idle": "2024-09-28T05:05:01.799594Z",
     "shell.execute_reply": "2024-09-28T05:05:01.798055Z",
     "shell.execute_reply.started": "2024-09-28T05:05:01.746751Z"
    },
    "trusted": true
   },
   "outputs": [],
   "source": [
    "print(classification_report(y_test, y_pred, target_names = ['Fake','Not Fake']))"
   ]
  },
  {
   "cell_type": "code",
   "execution_count": null,
   "metadata": {
    "execution": {
     "iopub.execute_input": "2024-09-28T05:05:24.415449Z",
     "iopub.status.busy": "2024-09-28T05:05:24.415008Z",
     "iopub.status.idle": "2024-09-28T05:05:24.427181Z",
     "shell.execute_reply": "2024-09-28T05:05:24.425816Z",
     "shell.execute_reply.started": "2024-09-28T05:05:24.415403Z"
    },
    "trusted": true
   },
   "outputs": [],
   "source": [
    "confmat2 = confusion_matrix(y_pred,y_test)"
   ]
  },
  {
   "cell_type": "code",
   "execution_count": null,
   "metadata": {
    "execution": {
     "iopub.execute_input": "2024-09-28T05:05:57.635708Z",
     "iopub.status.busy": "2024-09-28T05:05:57.634707Z",
     "iopub.status.idle": "2024-09-28T05:05:58.334606Z",
     "shell.execute_reply": "2024-09-28T05:05:58.333482Z",
     "shell.execute_reply.started": "2024-09-28T05:05:57.63566Z"
    },
    "trusted": true
   },
   "outputs": [],
   "source": [
    "print(f\"Model 2 confusion matrix :\")\n",
    "# y_test # array([1, 0, 1, ..., 1, 1, 1])\n",
    "disp = ConfusionMatrixDisplay(confmat2)\n",
    "disp.plot()\n",
    "plt.savefig('confmat_model4.png', dpi=300)\n",
    "plt.show()"
   ]
  },
  {
   "cell_type": "code",
   "execution_count": null,
   "metadata": {
    "execution": {
     "iopub.execute_input": "2024-09-28T05:13:52.291133Z",
     "iopub.status.busy": "2024-09-28T05:13:52.290693Z",
     "iopub.status.idle": "2024-09-28T05:13:52.315102Z",
     "shell.execute_reply": "2024-09-28T05:13:52.313799Z",
     "shell.execute_reply.started": "2024-09-28T05:13:52.291092Z"
    },
    "trusted": true
   },
   "outputs": [],
   "source": [
    "model2.summary()"
   ]
  },
  {
   "cell_type": "code",
   "execution_count": null,
   "metadata": {
    "execution": {
     "iopub.execute_input": "2024-09-28T05:15:31.120107Z",
     "iopub.status.busy": "2024-09-28T05:15:31.119655Z",
     "iopub.status.idle": "2024-09-28T05:15:31.126682Z",
     "shell.execute_reply": "2024-09-28T05:15:31.125286Z",
     "shell.execute_reply.started": "2024-09-28T05:15:31.120068Z"
    },
    "trusted": true
   },
   "outputs": [],
   "source": [
    "from tensorflow.keras.layers import Bidirectional\n",
    "from tensorflow.keras.layers import Dropout"
   ]
  },
  {
   "cell_type": "code",
   "execution_count": null,
   "metadata": {
    "execution": {
     "iopub.execute_input": "2024-09-28T05:18:09.485414Z",
     "iopub.status.busy": "2024-09-28T05:18:09.484902Z",
     "iopub.status.idle": "2024-09-28T05:18:09.568326Z",
     "shell.execute_reply": "2024-09-28T05:18:09.567147Z",
     "shell.execute_reply.started": "2024-09-28T05:18:09.485356Z"
    },
    "trusted": true
   },
   "outputs": [],
   "source": [
    "model3=Sequential()\n",
    "model3.add(Embedding(max_features, output_dim=embed_size, weights=[embedding_matrix], input_length=maxlen, trainable=False))\n",
    "model3.add(Bidirectional(LSTM(100)))\n",
    "model3.add(Dropout(0.3))\n",
    "model3.add(Dense(1,activation='sigmoid'))\n",
    "model3.compile(loss='binary_crossentropy',optimizer='adam',metrics=['accuracy'])\n",
    "print(model3.summary())"
   ]
  },
  {
   "cell_type": "code",
   "execution_count": null,
   "metadata": {
    "execution": {
     "iopub.execute_input": "2024-09-28T05:18:42.402068Z",
     "iopub.status.busy": "2024-09-28T05:18:42.401062Z",
     "iopub.status.idle": "2024-09-28T06:08:47.606634Z",
     "shell.execute_reply": "2024-09-28T06:08:47.60521Z",
     "shell.execute_reply.started": "2024-09-28T05:18:42.40202Z"
    },
    "trusted": true
   },
   "outputs": [],
   "source": [
    "history3 = model3.fit(x_train, y_train, batch_size = batch_size , validation_data = (x_test,y_test) , epochs = epochs )"
   ]
  },
  {
   "cell_type": "code",
   "execution_count": null,
   "metadata": {
    "execution": {
     "iopub.execute_input": "2024-09-28T06:08:58.66797Z",
     "iopub.status.busy": "2024-09-28T06:08:58.667504Z",
     "iopub.status.idle": "2024-09-28T06:09:58.304016Z",
     "shell.execute_reply": "2024-09-28T06:09:58.30288Z",
     "shell.execute_reply.started": "2024-09-28T06:08:58.667929Z"
    },
    "trusted": true
   },
   "outputs": [],
   "source": [
    "y_pred2 = model3.predict(x_test)\n",
    "y_pred2 = np.where(y_pred2 >0.4, 1, 0)"
   ]
  },
  {
   "cell_type": "code",
   "execution_count": null,
   "metadata": {
    "execution": {
     "iopub.execute_input": "2024-09-28T06:10:04.172271Z",
     "iopub.status.busy": "2024-09-28T06:10:04.171202Z",
     "iopub.status.idle": "2024-09-28T06:10:04.221691Z",
     "shell.execute_reply": "2024-09-28T06:10:04.220358Z",
     "shell.execute_reply.started": "2024-09-28T06:10:04.17222Z"
    },
    "trusted": true
   },
   "outputs": [],
   "source": [
    "print(classification_report(y_test, y_pred2, target_names = ['Fake','Not Fake']))"
   ]
  },
  {
   "cell_type": "code",
   "execution_count": null,
   "metadata": {
    "execution": {
     "iopub.execute_input": "2024-09-28T06:10:08.660131Z",
     "iopub.status.busy": "2024-09-28T06:10:08.659699Z",
     "iopub.status.idle": "2024-09-28T06:10:09.319581Z",
     "shell.execute_reply": "2024-09-28T06:10:09.318247Z",
     "shell.execute_reply.started": "2024-09-28T06:10:08.660091Z"
    },
    "trusted": true
   },
   "outputs": [],
   "source": [
    "confmat3 = confusion_matrix(y_pred2,y_test)\n",
    "print(f\"Model 3 confusion matrix :\")\n",
    "disp = ConfusionMatrixDisplay(confmat3)\n",
    "disp.plot()\n",
    "plt.savefig('confmat_model4.png', dpi=300)\n",
    "plt.show()"
   ]
  },
  {
   "cell_type": "code",
   "execution_count": null,
   "metadata": {
    "execution": {
     "iopub.execute_input": "2024-09-28T06:10:20.130596Z",
     "iopub.status.busy": "2024-09-28T06:10:20.130112Z",
     "iopub.status.idle": "2024-09-28T06:10:20.161575Z",
     "shell.execute_reply": "2024-09-28T06:10:20.160137Z",
     "shell.execute_reply.started": "2024-09-28T06:10:20.130553Z"
    },
    "trusted": true
   },
   "outputs": [],
   "source": [
    "model3.summary()"
   ]
  },
  {
   "cell_type": "code",
   "execution_count": null,
   "metadata": {
    "execution": {
     "iopub.execute_input": "2024-09-28T06:11:56.354684Z",
     "iopub.status.busy": "2024-09-28T06:11:56.353839Z",
     "iopub.status.idle": "2024-09-28T06:11:56.438167Z",
     "shell.execute_reply": "2024-09-28T06:11:56.437101Z",
     "shell.execute_reply.started": "2024-09-28T06:11:56.354639Z"
    },
    "trusted": true
   },
   "outputs": [],
   "source": [
    "model2.save(\"./simplelstm.keras\")"
   ]
  },
  {
   "cell_type": "code",
   "execution_count": null,
   "metadata": {
    "execution": {
     "iopub.execute_input": "2024-09-28T06:12:19.511076Z",
     "iopub.status.busy": "2024-09-28T06:12:19.510638Z",
     "iopub.status.idle": "2024-09-28T06:12:19.569315Z",
     "shell.execute_reply": "2024-09-28T06:12:19.567916Z",
     "shell.execute_reply.started": "2024-09-28T06:12:19.511035Z"
    },
    "trusted": true
   },
   "outputs": [],
   "source": [
    "model3.save(\"./bi_lstm.keras\")"
   ]
  },
  {
   "cell_type": "code",
   "execution_count": null,
   "metadata": {},
   "outputs": [],
   "source": []
  }
 ],
 "metadata": {
  "kaggle": {
   "accelerator": "none",
   "dataSources": [
    {
     "datasetId": 1835,
     "sourceId": 3176,
     "sourceType": "datasetVersion"
    },
    {
     "datasetId": 2093157,
     "sourceId": 6641062,
     "sourceType": "datasetVersion"
    }
   ],
   "dockerImageVersionId": 30775,
   "isGpuEnabled": false,
   "isInternetEnabled": false,
   "language": "python",
   "sourceType": "notebook"
  },
  "kernelspec": {
   "display_name": "Python 3",
   "language": "python",
   "name": "python3"
  },
  "language_info": {
   "codemirror_mode": {
    "name": "ipython",
    "version": 3
   },
   "file_extension": ".py",
   "mimetype": "text/x-python",
   "name": "python",
   "nbconvert_exporter": "python",
   "pygments_lexer": "ipython3",
   "version": "3.11.9"
  }
 },
 "nbformat": 4,
 "nbformat_minor": 4
}
